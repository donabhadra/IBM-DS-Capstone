{
 "cells": [
  {
   "cell_type": "code",
   "execution_count": 4,
   "id": "8c9cf137",
   "metadata": {
    "scrolled": false
   },
   "outputs": [
    {
     "name": "stdout",
     "output_type": "stream",
     "text": [
      "Requirement already satisfied: dash==1.19.0 in c:\\users\\debadrita bhadra\\appdata\\local\\programs\\python\\python310\\lib\\site-packages (1.19.0)\n",
      "Requirement already satisfied: dash-table==4.11.2 in c:\\users\\debadrita bhadra\\appdata\\local\\programs\\python\\python310\\lib\\site-packages (from dash==1.19.0) (4.11.2)\n",
      "Requirement already satisfied: dash-renderer==1.9.0 in c:\\users\\debadrita bhadra\\appdata\\local\\programs\\python\\python310\\lib\\site-packages (from dash==1.19.0) (1.9.0)\n",
      "Requirement already satisfied: dash-html-components==1.1.2 in c:\\users\\debadrita bhadra\\appdata\\local\\programs\\python\\python310\\lib\\site-packages (from dash==1.19.0) (1.1.2)\n",
      "Requirement already satisfied: plotly in c:\\users\\debadrita bhadra\\appdata\\local\\programs\\python\\python310\\lib\\site-packages (from dash==1.19.0) (5.6.0)\n",
      "Requirement already satisfied: dash-core-components==1.15.0 in c:\\users\\debadrita bhadra\\appdata\\local\\programs\\python\\python310\\lib\\site-packages (from dash==1.19.0) (1.15.0)\n",
      "Requirement already satisfied: flask-compress in c:\\users\\debadrita bhadra\\appdata\\local\\programs\\python\\python310\\lib\\site-packages (from dash==1.19.0) (1.11)\n",
      "Requirement already satisfied: Flask>=1.0.4 in c:\\users\\debadrita bhadra\\appdata\\local\\programs\\python\\python310\\lib\\site-packages (from dash==1.19.0) (2.0.3)\n",
      "Requirement already satisfied: future in c:\\users\\debadrita bhadra\\appdata\\local\\programs\\python\\python310\\lib\\site-packages (from dash==1.19.0) (0.18.2)\n",
      "Requirement already satisfied: Werkzeug>=2.0 in c:\\users\\debadrita bhadra\\appdata\\local\\programs\\python\\python310\\lib\\site-packages (from Flask>=1.0.4->dash==1.19.0) (2.0.3)\n",
      "Requirement already satisfied: itsdangerous>=2.0 in c:\\users\\debadrita bhadra\\appdata\\local\\programs\\python\\python310\\lib\\site-packages (from Flask>=1.0.4->dash==1.19.0) (2.1.1)\n",
      "Requirement already satisfied: click>=7.1.2 in c:\\users\\debadrita bhadra\\appdata\\local\\programs\\python\\python310\\lib\\site-packages (from Flask>=1.0.4->dash==1.19.0) (8.0.4)\n",
      "Requirement already satisfied: Jinja2>=3.0 in c:\\users\\debadrita bhadra\\appdata\\local\\programs\\python\\python310\\lib\\site-packages (from Flask>=1.0.4->dash==1.19.0) (3.0.3)\n",
      "Requirement already satisfied: brotli in c:\\users\\debadrita bhadra\\appdata\\local\\programs\\python\\python310\\lib\\site-packages (from flask-compress->dash==1.19.0) (1.0.9)\n",
      "Requirement already satisfied: six in c:\\users\\debadrita bhadra\\appdata\\local\\programs\\python\\python310\\lib\\site-packages (from plotly->dash==1.19.0) (1.16.0)\n",
      "Requirement already satisfied: tenacity>=6.2.0 in c:\\users\\debadrita bhadra\\appdata\\local\\programs\\python\\python310\\lib\\site-packages (from plotly->dash==1.19.0) (8.0.1)\n",
      "Requirement already satisfied: colorama in c:\\users\\debadrita bhadra\\appdata\\local\\programs\\python\\python310\\lib\\site-packages (from click>=7.1.2->Flask>=1.0.4->dash==1.19.0) (0.4.4)\n",
      "Requirement already satisfied: MarkupSafe>=2.0 in c:\\users\\debadrita bhadra\\appdata\\local\\programs\\python\\python310\\lib\\site-packages (from Jinja2>=3.0->Flask>=1.0.4->dash==1.19.0) (2.0.1)\n"
     ]
    },
    {
     "name": "stderr",
     "output_type": "stream",
     "text": [
      "WARNING: You are using pip version 21.3.1; however, version 22.0.4 is available.\n",
      "You should consider upgrading via the 'C:\\Users\\Debadrita Bhadra\\AppData\\Local\\Programs\\Python\\Python310\\python.exe -m pip install --upgrade pip' command.\n"
     ]
    },
    {
     "name": "stdout",
     "output_type": "stream",
     "text": [
      "Requirement already satisfied: jupyter_dash in c:\\users\\debadrita bhadra\\appdata\\local\\programs\\python\\python310\\lib\\site-packages (0.4.2)"
     ]
    },
    {
     "name": "stderr",
     "output_type": "stream",
     "text": [
      "WARNING: You are using pip version 21.3.1; however, version 22.0.4 is available.\n",
      "You should consider upgrading via the 'C:\\Users\\Debadrita Bhadra\\AppData\\Local\\Programs\\Python\\Python310\\python.exe -m pip install --upgrade pip' command.\n"
     ]
    },
    {
     "name": "stdout",
     "output_type": "stream",
     "text": [
      "\n",
      "Requirement already satisfied: dash in c:\\users\\debadrita bhadra\\appdata\\local\\programs\\python\\python310\\lib\\site-packages (from jupyter_dash) (1.19.0)\n",
      "Requirement already satisfied: ipykernel in c:\\users\\debadrita bhadra\\appdata\\local\\programs\\python\\python310\\lib\\site-packages (from jupyter_dash) (6.5.1)\n",
      "Requirement already satisfied: requests in c:\\users\\debadrita bhadra\\appdata\\local\\programs\\python\\python310\\lib\\site-packages (from jupyter_dash) (2.27.1)\n",
      "Requirement already satisfied: nest-asyncio in c:\\users\\debadrita bhadra\\appdata\\local\\programs\\python\\python310\\lib\\site-packages (from jupyter_dash) (1.5.1)\n",
      "Requirement already satisfied: flask in c:\\users\\debadrita bhadra\\appdata\\local\\programs\\python\\python310\\lib\\site-packages (from jupyter_dash) (2.0.3)\n",
      "Requirement already satisfied: retrying in c:\\users\\debadrita bhadra\\appdata\\local\\programs\\python\\python310\\lib\\site-packages (from jupyter_dash) (1.3.3)\n",
      "Requirement already satisfied: ipython in c:\\users\\debadrita bhadra\\appdata\\local\\programs\\python\\python310\\lib\\site-packages (from jupyter_dash) (7.29.0)\n",
      "Requirement already satisfied: ansi2html in c:\\users\\debadrita bhadra\\appdata\\local\\programs\\python\\python310\\lib\\site-packages (from jupyter_dash) (1.7.0)\n",
      "Requirement already satisfied: dash-core-components==1.15.0 in c:\\users\\debadrita bhadra\\appdata\\local\\programs\\python\\python310\\lib\\site-packages (from dash->jupyter_dash) (1.15.0)\n",
      "Requirement already satisfied: dash-renderer==1.9.0 in c:\\users\\debadrita bhadra\\appdata\\local\\programs\\python\\python310\\lib\\site-packages (from dash->jupyter_dash) (1.9.0)\n",
      "Requirement already satisfied: flask-compress in c:\\users\\debadrita bhadra\\appdata\\local\\programs\\python\\python310\\lib\\site-packages (from dash->jupyter_dash) (1.11)\n",
      "Requirement already satisfied: future in c:\\users\\debadrita bhadra\\appdata\\local\\programs\\python\\python310\\lib\\site-packages (from dash->jupyter_dash) (0.18.2)\n",
      "Requirement already satisfied: plotly in c:\\users\\debadrita bhadra\\appdata\\local\\programs\\python\\python310\\lib\\site-packages (from dash->jupyter_dash) (5.6.0)\n",
      "Requirement already satisfied: dash-html-components==1.1.2 in c:\\users\\debadrita bhadra\\appdata\\local\\programs\\python\\python310\\lib\\site-packages (from dash->jupyter_dash) (1.1.2)\n",
      "Requirement already satisfied: dash-table==4.11.2 in c:\\users\\debadrita bhadra\\appdata\\local\\programs\\python\\python310\\lib\\site-packages (from dash->jupyter_dash) (4.11.2)\n",
      "Requirement already satisfied: click>=7.1.2 in c:\\users\\debadrita bhadra\\appdata\\local\\programs\\python\\python310\\lib\\site-packages (from flask->jupyter_dash) (8.0.4)\n",
      "Requirement already satisfied: Jinja2>=3.0 in c:\\users\\debadrita bhadra\\appdata\\local\\programs\\python\\python310\\lib\\site-packages (from flask->jupyter_dash) (3.0.3)\n",
      "Requirement already satisfied: itsdangerous>=2.0 in c:\\users\\debadrita bhadra\\appdata\\local\\programs\\python\\python310\\lib\\site-packages (from flask->jupyter_dash) (2.1.1)\n",
      "Requirement already satisfied: Werkzeug>=2.0 in c:\\users\\debadrita bhadra\\appdata\\local\\programs\\python\\python310\\lib\\site-packages (from flask->jupyter_dash) (2.0.3)\n",
      "Requirement already satisfied: debugpy<2.0,>=1.0.0 in c:\\users\\debadrita bhadra\\appdata\\local\\programs\\python\\python310\\lib\\site-packages (from ipykernel->jupyter_dash) (1.5.1)\n",
      "Requirement already satisfied: jupyter-client<8.0 in c:\\users\\debadrita bhadra\\appdata\\local\\programs\\python\\python310\\lib\\site-packages (from ipykernel->jupyter_dash) (7.0.6)\n",
      "Requirement already satisfied: traitlets<6.0,>=5.1.0 in c:\\users\\debadrita bhadra\\appdata\\local\\programs\\python\\python310\\lib\\site-packages (from ipykernel->jupyter_dash) (5.1.1)\n",
      "Requirement already satisfied: tornado<7.0,>=4.2 in c:\\users\\debadrita bhadra\\appdata\\local\\programs\\python\\python310\\lib\\site-packages (from ipykernel->jupyter_dash) (6.1)\n",
      "Requirement already satisfied: matplotlib-inline<0.2.0,>=0.1.0 in c:\\users\\debadrita bhadra\\appdata\\local\\programs\\python\\python310\\lib\\site-packages (from ipykernel->jupyter_dash) (0.1.3)\n",
      "Requirement already satisfied: backcall in c:\\users\\debadrita bhadra\\appdata\\local\\programs\\python\\python310\\lib\\site-packages (from ipython->jupyter_dash) (0.2.0)\n",
      "Requirement already satisfied: setuptools>=18.5 in c:\\users\\debadrita bhadra\\appdata\\local\\programs\\python\\python310\\lib\\site-packages (from ipython->jupyter_dash) (57.4.0)\n",
      "Requirement already satisfied: pickleshare in c:\\users\\debadrita bhadra\\appdata\\local\\programs\\python\\python310\\lib\\site-packages (from ipython->jupyter_dash) (0.7.5)\n",
      "Requirement already satisfied: colorama in c:\\users\\debadrita bhadra\\appdata\\local\\programs\\python\\python310\\lib\\site-packages (from ipython->jupyter_dash) (0.4.4)\n",
      "Requirement already satisfied: pygments in c:\\users\\debadrita bhadra\\appdata\\local\\programs\\python\\python310\\lib\\site-packages (from ipython->jupyter_dash) (2.10.0)\n",
      "Requirement already satisfied: decorator in c:\\users\\debadrita bhadra\\appdata\\local\\programs\\python\\python310\\lib\\site-packages (from ipython->jupyter_dash) (5.1.0)\n",
      "Requirement already satisfied: prompt-toolkit!=3.0.0,!=3.0.1,<3.1.0,>=2.0.0 in c:\\users\\debadrita bhadra\\appdata\\local\\programs\\python\\python310\\lib\\site-packages (from ipython->jupyter_dash) (3.0.22)\n",
      "Requirement already satisfied: jedi>=0.16 in c:\\users\\debadrita bhadra\\appdata\\local\\programs\\python\\python310\\lib\\site-packages (from ipython->jupyter_dash) (0.18.1)\n",
      "Requirement already satisfied: idna<4,>=2.5 in c:\\users\\debadrita bhadra\\appdata\\local\\programs\\python\\python310\\lib\\site-packages (from requests->jupyter_dash) (3.3)\n",
      "Requirement already satisfied: urllib3<1.27,>=1.21.1 in c:\\users\\debadrita bhadra\\appdata\\local\\programs\\python\\python310\\lib\\site-packages (from requests->jupyter_dash) (1.26.8)\n",
      "Requirement already satisfied: certifi>=2017.4.17 in c:\\users\\debadrita bhadra\\appdata\\local\\programs\\python\\python310\\lib\\site-packages (from requests->jupyter_dash) (2021.10.8)\n",
      "Requirement already satisfied: charset-normalizer~=2.0.0 in c:\\users\\debadrita bhadra\\appdata\\local\\programs\\python\\python310\\lib\\site-packages (from requests->jupyter_dash) (2.0.12)\n",
      "Requirement already satisfied: six>=1.7.0 in c:\\users\\debadrita bhadra\\appdata\\local\\programs\\python\\python310\\lib\\site-packages (from retrying->jupyter_dash) (1.16.0)\n",
      "Requirement already satisfied: parso<0.9.0,>=0.8.0 in c:\\users\\debadrita bhadra\\appdata\\local\\programs\\python\\python310\\lib\\site-packages (from jedi>=0.16->ipython->jupyter_dash) (0.8.2)\n",
      "Requirement already satisfied: MarkupSafe>=2.0 in c:\\users\\debadrita bhadra\\appdata\\local\\programs\\python\\python310\\lib\\site-packages (from Jinja2>=3.0->flask->jupyter_dash) (2.0.1)\n",
      "Requirement already satisfied: python-dateutil>=2.1 in c:\\users\\debadrita bhadra\\appdata\\local\\programs\\python\\python310\\lib\\site-packages (from jupyter-client<8.0->ipykernel->jupyter_dash) (2.8.2)\n",
      "Requirement already satisfied: pyzmq>=13 in c:\\users\\debadrita bhadra\\appdata\\local\\programs\\python\\python310\\lib\\site-packages (from jupyter-client<8.0->ipykernel->jupyter_dash) (22.3.0)\n",
      "Requirement already satisfied: jupyter-core>=4.6.0 in c:\\users\\debadrita bhadra\\appdata\\local\\programs\\python\\python310\\lib\\site-packages (from jupyter-client<8.0->ipykernel->jupyter_dash) (4.9.1)\n",
      "Requirement already satisfied: entrypoints in c:\\users\\debadrita bhadra\\appdata\\local\\programs\\python\\python310\\lib\\site-packages (from jupyter-client<8.0->ipykernel->jupyter_dash) (0.3)\n",
      "Requirement already satisfied: wcwidth in c:\\users\\debadrita bhadra\\appdata\\local\\programs\\python\\python310\\lib\\site-packages (from prompt-toolkit!=3.0.0,!=3.0.1,<3.1.0,>=2.0.0->ipython->jupyter_dash) (0.2.5)\n",
      "Requirement already satisfied: brotli in c:\\users\\debadrita bhadra\\appdata\\local\\programs\\python\\python310\\lib\\site-packages (from flask-compress->dash->jupyter_dash) (1.0.9)\n",
      "Requirement already satisfied: tenacity>=6.2.0 in c:\\users\\debadrita bhadra\\appdata\\local\\programs\\python\\python310\\lib\\site-packages (from plotly->dash->jupyter_dash) (8.0.1)\n",
      "Requirement already satisfied: pywin32>=1.0 in c:\\users\\debadrita bhadra\\appdata\\local\\programs\\python\\python310\\lib\\site-packages (from jupyter-core>=4.6.0->jupyter-client<8.0->ipykernel->jupyter_dash) (302)\n",
      "Requirement already satisfied: plotly in c:\\users\\debadrita bhadra\\appdata\\local\\programs\\python\\python310\\lib\\site-packages (5.6.0)\n",
      "Requirement already satisfied: tenacity>=6.2.0 in c:\\users\\debadrita bhadra\\appdata\\local\\programs\\python\\python310\\lib\\site-packages (from plotly) (8.0.1)\n",
      "Requirement already satisfied: six in c:\\users\\debadrita bhadra\\appdata\\local\\programs\\python\\python310\\lib\\site-packages (from plotly) (1.16.0)\n"
     ]
    },
    {
     "name": "stderr",
     "output_type": "stream",
     "text": [
      "WARNING: You are using pip version 21.3.1; however, version 22.0.4 is available.\n",
      "You should consider upgrading via the 'C:\\Users\\Debadrita Bhadra\\AppData\\Local\\Programs\\Python\\Python310\\python.exe -m pip install --upgrade pip' command.\n"
     ]
    }
   ],
   "source": [
    "!pip install dash==1.19.0  \n",
    "\n",
    "!pip install jupyter_dash \n",
    "\n",
    "!pip install --upgrade plotly"
   ]
  },
  {
   "cell_type": "code",
   "execution_count": 6,
   "id": "bff7955b",
   "metadata": {},
   "outputs": [],
   "source": [
    "import pandas as pd\n",
    "import dash\n",
    "import dash_html_components as html\n",
    "import dash_core_components as dcc\n",
    "from dash.dependencies import Input, Output\n",
    "from jupyter_dash import JupyterDash\n",
    "import plotly.express as px"
   ]
  },
  {
   "cell_type": "code",
   "execution_count": 7,
   "id": "6ddbea1b",
   "metadata": {},
   "outputs": [],
   "source": [
    "# Read the airline data into pandas dataframe\n",
    "spacex_df = pd.read_csv(\"https://cf-courses-data.s3.us.cloud-object-storage.appdomain.cloud/IBM-DS0321EN-SkillsNetwork/datasets/spacex_launch_dash.csv\")\n",
    "max_payload = spacex_df['Payload Mass (kg)'].max()\n",
    "min_payload = spacex_df['Payload Mass (kg)'].min()\n",
    "\n",
    "# Create a dash application\n",
    "app = JupyterDash(__name__)\n",
    "\n",
    "# Create an app layout\n",
    "app.layout = html.Div(children=[html.H1('SpaceX Launch Records Dashboard',\n",
    "                                        style={'textAlign': 'center', 'color': '#503D36',\n",
    "                                               'font-size': 40}),\n",
    "                                # TASK 1: Add a dropdown list to enable Launch Site selection\n",
    "                                # The default select value is for ALL sites\n",
    "                                 dcc.Dropdown(id='site-dropdown',options=[\n",
    "                                    {'label':'All Sites', 'value':'ALL'},\n",
    "                                    {'label':'CCAFS LC-40', 'value':'CCAFS LC-40'},\n",
    "                                    {'label':'CCAFS SLC-40', 'value':'CCAFS SLC-40'},\n",
    "                                    {'label':'KSC LC-39A', 'value':'KSC LC-39A'},\n",
    "                                    {'label':'VAFB SLC-4E', 'value':'VAFB SLC-4E'},\n",
    "                                ],value='ALL', placeholder='Select a launch site here', searchable=True),\n",
    "                                html.Br(),\n",
    "\n",
    "                                # TASK 2: Add a pie chart to show the total successful launches count for all sites\n",
    "                                # If a specific launch site was selected, show the Success vs. Failed counts for the site\n",
    "                                html.Div(dcc.Graph(id='success-pie-chart')),\n",
    "                                html.Br(),\n",
    "\n",
    "                                html.P(\"Payload range (Kg):\"),\n",
    "                                # TASK 3: Add a slider to select payload range\n",
    "                                dcc.RangeSlider(id='payload-slider',min=0,max=10000,step=1000,value=[min_payload,max_payload]),\n",
    "\n",
    "                                # TASK 4: Add a scatter chart to show the correlation between payload and launch success\n",
    "                                html.Div(dcc.Graph(id='success-payload-scatter-chart')),\n",
    "                                ])\n",
    "\n",
    "# TASK 2:\n",
    "# Add a callback function for `site-dropdown` as input, `success-pie-chart` as output\n",
    "@app.callback(Output(component_id='success-pie-chart',component_property='figure'),\n",
    "            Input(component_id='site-dropdown',component_property='value'))\n",
    "def get_pie_chart(site):\n",
    "    if site=='ALL':\n",
    "        filtered_df= spacex_df\n",
    "        fig= px.pie(filtered_df,values='class',names='Launch Site',title='Success rate by Launch Sites')\n",
    "        return fig\n",
    "    else:\n",
    "        filtered_df=spacex_df[spacex_df['Launch Site']==site]\n",
    "        count=filtered_df.groupby('class')['class'].count().reset_index(name='count')\n",
    "        fig= px.pie(count,values='count',names='class',title='Total Success launches for '+site)\n",
    "        return fig\n",
    "\n",
    "# TASK 4:\n",
    "# Add a callback function for `site-dropdown` and `payload-slider` as inputs, `success-payload-scatter-chart` as output\n",
    "@app.callback(Output(component_id='success-payload-scatter-chart', component_property='figure'),\n",
    "                [Input(component_id='site-dropdown', component_property='value'), \n",
    "                Input(component_id=\"payload-slider\", component_property=\"value\")])\n",
    "def get_scatter_plot(site,payload):\n",
    "    if site=='ALL':\n",
    "        df= spacex_df[(spacex_df['Payload Mass (kg)']>=payload[0]) & (spacex_df['Payload Mass (kg)']<=payload[1])]\n",
    "        fig= px.scatter(df,x='Payload Mass (kg)',y='class',color='Booster Version',title='Correlation between Payload and Success for all Sites')\n",
    "        return fig\n",
    "    else:\n",
    "        df= spacex_df[(spacex_df['Payload Mass (kg)']>=payload[0]) & (spacex_df['Payload Mass (kg)']<=payload[1])]\n",
    "        df= df[(df['Launch Site']==site)]\n",
    "        fig= px.scatter(df,x='Payload Mass (kg)',y='class',color='Booster Version',title='Correlation between Payload and Success for '+site)\n",
    "        return fig\n",
    "# Run the app\n",
    "if __name__ == '__main__':\n",
    "    app.run_server(mode='jupyterlab', port = 8090 ,dev_tools_ui=True, #debug=True,\n",
    "              dev_tools_hot_reload =True, threaded=True)\n"
   ]
  },
  {
   "cell_type": "code",
   "execution_count": null,
   "id": "a07ac574",
   "metadata": {},
   "outputs": [],
   "source": []
  }
 ],
 "metadata": {
  "kernelspec": {
   "display_name": "Python 3 (ipykernel)",
   "language": "python",
   "name": "python3"
  },
  "language_info": {
   "codemirror_mode": {
    "name": "ipython",
    "version": 3
   },
   "file_extension": ".py",
   "mimetype": "text/x-python",
   "name": "python",
   "nbconvert_exporter": "python",
   "pygments_lexer": "ipython3",
   "version": "3.10.0"
  }
 },
 "nbformat": 4,
 "nbformat_minor": 5
}
